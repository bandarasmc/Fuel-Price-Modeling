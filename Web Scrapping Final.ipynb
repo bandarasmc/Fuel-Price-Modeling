{
 "cells": [
  {
   "cell_type": "code",
   "execution_count": 1,
   "id": "0db83886-c261-40ad-a691-686a303bf46d",
   "metadata": {},
   "outputs": [
    {
     "name": "stdout",
     "output_type": "stream",
     "text": [
      "Requirement already satisfied: pandas in c:\\users\\user\\appdata\\local\\programs\\python\\python313\\lib\\site-packages (2.2.3)\n",
      "Requirement already satisfied: requests in c:\\users\\user\\appdata\\local\\programs\\python\\python313\\lib\\site-packages (2.32.3)\n",
      "Requirement already satisfied: beautifulsoup4 in c:\\users\\user\\appdata\\local\\programs\\python\\python313\\lib\\site-packages (4.12.3)\n",
      "Requirement already satisfied: numpy>=1.26.0 in c:\\users\\user\\appdata\\local\\programs\\python\\python313\\lib\\site-packages (from pandas) (2.2.1)\n",
      "Requirement already satisfied: python-dateutil>=2.8.2 in c:\\users\\user\\appdata\\local\\programs\\python\\python313\\lib\\site-packages (from pandas) (2.9.0.post0)\n",
      "Requirement already satisfied: pytz>=2020.1 in c:\\users\\user\\appdata\\local\\programs\\python\\python313\\lib\\site-packages (from pandas) (2025.1)\n",
      "Requirement already satisfied: tzdata>=2022.7 in c:\\users\\user\\appdata\\local\\programs\\python\\python313\\lib\\site-packages (from pandas) (2025.1)\n",
      "Requirement already satisfied: charset-normalizer<4,>=2 in c:\\users\\user\\appdata\\local\\programs\\python\\python313\\lib\\site-packages (from requests) (3.4.1)\n",
      "Requirement already satisfied: idna<4,>=2.5 in c:\\users\\user\\appdata\\local\\programs\\python\\python313\\lib\\site-packages (from requests) (3.10)\n",
      "Requirement already satisfied: urllib3<3,>=1.21.1 in c:\\users\\user\\appdata\\local\\programs\\python\\python313\\lib\\site-packages (from requests) (2.3.0)\n",
      "Requirement already satisfied: certifi>=2017.4.17 in c:\\users\\user\\appdata\\local\\programs\\python\\python313\\lib\\site-packages (from requests) (2024.12.14)\n",
      "Requirement already satisfied: soupsieve>1.2 in c:\\users\\user\\appdata\\local\\programs\\python\\python313\\lib\\site-packages (from beautifulsoup4) (2.6)\n",
      "Requirement already satisfied: six>=1.5 in c:\\users\\user\\appdata\\local\\programs\\python\\python313\\lib\\site-packages (from python-dateutil>=2.8.2->pandas) (1.17.0)\n",
      "Note: you may need to restart the kernel to use updated packages.\n"
     ]
    },
    {
     "name": "stderr",
     "output_type": "stream",
     "text": [
      "\n",
      "[notice] A new release of pip is available: 24.3.1 -> 25.0.1\n",
      "[notice] To update, run: python.exe -m pip install --upgrade pip\n"
     ]
    }
   ],
   "source": [
    "%pip install pandas requests beautifulsoup4"
   ]
  },
  {
   "cell_type": "code",
   "execution_count": 2,
   "id": "42d43d39-790e-4aa6-8d78-92cddf9d789e",
   "metadata": {},
   "outputs": [],
   "source": [
    "import numpy as np\n",
    "import pandas as pd\n",
    "import matplotlib.pyplot as plt\n",
    "import seaborn as sns\n",
    "import plotly.graph_objs as go\n",
    "import plotly\n",
    "import cufflinks\n",
    "from plotly.offline import download_plotlyjs, init_notebook_mode, plot, iplot\n",
    "import requests\n",
    "from bs4 import BeautifulSoup"
   ]
  },
  {
   "cell_type": "code",
   "execution_count": 3,
   "id": "0fb0c58c-e4cd-4cf0-a7e7-893e02fbaeda",
   "metadata": {},
   "outputs": [
    {
     "name": "stdout",
     "output_type": "stream",
     "text": [
      "                  LP 95   LP 92     LAD     LSD      LK     LIK FUR. 800  \\\n",
      "0    01.02.2025  371.00  309.00  286.00  331.00  183.00  191.00   207.00   \n",
      "1    01.01.2025  371.00  309.00  286.00  313.00  183.00  191.00   207.00   \n",
      "2    05.12.2024  371.00  309.00  286.00  313.00  188.00  196.00   207.00   \n",
      "3    01.12.2024  371.00  309.00  286.00  313.00  188.00  191.00   207.00   \n",
      "4    01.11.2024  371.00  311.00  283.00  313.00  183.00  191.00   207.00   \n",
      "..          ...     ...     ...     ...     ...     ...     ...      ...   \n",
      "155  01.01.1991   32.50   30.00   11.00   13.00    8.80    9.85     6.25   \n",
      "156  26.12.1990   32.50   30.00   11.00   13.00    8.80    9.85     6.30   \n",
      "157  05.11.1990   38.00   35.00   13.00   15.00    8.80    9.58     6.30   \n",
      "158  14.08.1990   27.00   25.00   11.00   12.50    8.00    9.85     5.40   \n",
      "159  01.03.1990   22.00   20.00    9.60   10.90    6.58    9.85     4.70   \n",
      "\n",
      "    FUR 1500 (High) FUR. 1500 (Low)  \n",
      "0            207.00          207.00  \n",
      "1            207.00          207.00  \n",
      "2            207.00          207.00  \n",
      "3            207.00          207.00  \n",
      "4            207.00          207.00  \n",
      "..              ...             ...  \n",
      "155                            5.55  \n",
      "156                            5.60  \n",
      "157                            5.60  \n",
      "158                            4.90  \n",
      "159                            4.29  \n",
      "\n",
      "[160 rows x 10 columns]\n"
     ]
    }
   ],
   "source": [
    "# URL of the CEYPETCO historical prices page\n",
    "url = 'https://ceypetco.gov.lk/historical-prices/'\n",
    "\n",
    "# Send a GET request to the URL\n",
    "response = requests.get(url)\n",
    "response.raise_for_status()  # Ensure the request was successful\n",
    "\n",
    "# Parse the HTML content using BeautifulSoup\n",
    "soup = BeautifulSoup(response.content, 'html.parser')\n",
    "\n",
    "# Find the section containing the historical prices\n",
    "# This assumes that the data is within a table; adjust the selector as needed\n",
    "table = soup.find('table')\n",
    "\n",
    "# Extract table headers\n",
    "headers = [header.text.strip() for header in table.find_all('th')]\n",
    "\n",
    "# Extract table rows\n",
    "rows = []\n",
    "for row in table.find_all('tr')[1:]:  # Skip the header row\n",
    "    columns = row.find_all('td')\n",
    "    row_data = [col.text.strip() for col in columns]\n",
    "    rows.append(row_data)\n",
    "\n",
    "# Create a DataFrame for better data manipulation\n",
    "df_extracted = pd.DataFrame(rows, columns=headers)\n",
    "\n",
    "# Display the DataFrame\n",
    "print(df_extracted)\n"
   ]
  },
  {
   "cell_type": "code",
   "execution_count": 4,
   "id": "2d50d088-82a0-456c-b4d9-364ae0de79ce",
   "metadata": {},
   "outputs": [],
   "source": [
    "df_extracted.rename(columns={df_extracted.columns[0]: 'Date'}, inplace=True)\n",
    "df_extracted.head()\n",
    "\n",
    "df_extracted.to_csv('extracted_data.csv', index=False)"
   ]
  },
  {
   "cell_type": "code",
   "execution_count": 5,
   "id": "91111845-f730-4fe3-a78c-492346e24f29",
   "metadata": {},
   "outputs": [
    {
     "data": {
      "text/plain": [
       "Date               object\n",
       "LP 95              object\n",
       "LP 92              object\n",
       "LAD                object\n",
       "LSD                object\n",
       "LK                 object\n",
       "LIK                object\n",
       "FUR. 800           object\n",
       "FUR 1500 (High)    object\n",
       "FUR. 1500 (Low)    object\n",
       "dtype: object"
      ]
     },
     "execution_count": 5,
     "metadata": {},
     "output_type": "execute_result"
    }
   ],
   "source": [
    "df_extracted.dtypes"
   ]
  },
  {
   "cell_type": "code",
   "execution_count": 7,
   "id": "7af720d1-8eb7-4e9d-8857-cb62c0eee760",
   "metadata": {},
   "outputs": [],
   "source": [
    "## Type Conversion - Date Format conversion\n",
    "df_extracted['Date'] = pd.to_datetime(df_extracted['Date'], format='%d.%m.%Y',errors='coerce')\n",
    "df_extracted = df_extracted.sort_values(by='Date')\n"
   ]
  },
  {
   "cell_type": "code",
   "execution_count": 22,
   "id": "8c8bff9e-48ee-4f11-b2d2-fef8784b348b",
   "metadata": {},
   "outputs": [],
   "source": [
    "df_extracted['LP 95'] = df_extracted['LP 95'].apply(pd.to_numeric, errors='coerce').astype(float)\n",
    "df_extracted['LP 92'] = df_extracted['LP 92'].apply(pd.to_numeric, errors='coerce').astype(float)\n",
    "df_extracted['LAD'] = df_extracted['LAD'].apply(pd.to_numeric, errors='coerce').astype(float)\n",
    "df_extracted['LSD'] = df_extracted['LSD'].apply(pd.to_numeric, errors='coerce').astype(float)\n",
    "df_extracted['LK'] = df_extracted['LK'].apply(pd.to_numeric, errors='coerce').astype(float)\n",
    "df_extracted['LIK'] = df_extracted['LIK'].apply(pd.to_numeric, errors='coerce').astype(float)\n",
    "df_extracted['FUR. 800'] = df_extracted['FUR. 800'].apply(pd.to_numeric, errors='coerce').astype(float)\n",
    "df_extracted['FUR 1500 (High)'] = df_extracted['FUR 1500 (High)'].apply(pd.to_numeric, errors='coerce').astype(float)\n",
    "df_extracted['FUR. 1500 (Low)'] = df_extracted['FUR. 1500 (Low)'].apply(pd.to_numeric, errors='coerce').astype(float)\n"
   ]
  },
  {
   "cell_type": "code",
   "execution_count": 13,
   "id": "7cc0630c-207e-4e4f-8869-438da6f352ef",
   "metadata": {},
   "outputs": [],
   "source": [
    "## Type Conversion - Num Format conversion\n",
    "#df_extracted.iloc[:, 1:10] = df_extracted.iloc[:, 1:10].apply(pd.to_numeric, errors='coerce').astype(float)\n"
   ]
  },
  {
   "cell_type": "code",
   "execution_count": 23,
   "id": "39279bfd-54eb-4795-a100-d021c7f97b9a",
   "metadata": {},
   "outputs": [
    {
     "name": "stdout",
     "output_type": "stream",
     "text": [
      "Date               datetime64[ns]\n",
      "LP 95                     float64\n",
      "LP 92                     float64\n",
      "LAD                       float64\n",
      "LSD                       float64\n",
      "LK                        float64\n",
      "LIK                       float64\n",
      "FUR. 800                  float64\n",
      "FUR 1500 (High)           float64\n",
      "FUR. 1500 (Low)           float64\n",
      "dtype: object\n"
     ]
    }
   ],
   "source": [
    "print(df_extracted.dtypes)"
   ]
  },
  {
   "cell_type": "code",
   "execution_count": 24,
   "id": "ca68c067-45ee-4e2c-b5a3-a400e4b31919",
   "metadata": {},
   "outputs": [
    {
     "name": "stdout",
     "output_type": "stream",
     "text": [
      "Date                1\n",
      "LP 95               0\n",
      "LP 92               1\n",
      "LAD                 0\n",
      "LSD                 0\n",
      "LK                  0\n",
      "LIK                 0\n",
      "FUR. 800            1\n",
      "FUR 1500 (High)    88\n",
      "FUR. 1500 (Low)     0\n",
      "dtype: int64\n"
     ]
    }
   ],
   "source": [
    "#Check for NaN values\n",
    "print(df_extracted.isna().sum())"
   ]
  },
  {
   "cell_type": "code",
   "execution_count": 30,
   "id": "7d5c0da6-b192-45b1-82f5-467504afcdaf",
   "metadata": {},
   "outputs": [
    {
     "name": "stderr",
     "output_type": "stream",
     "text": [
      "C:\\Users\\USER\\AppData\\Local\\Temp\\ipykernel_3680\\1375856138.py:9: FutureWarning:\n",
      "\n",
      "DataFrame.fillna with 'method' is deprecated and will raise in a future version. Use obj.ffill() or obj.bfill() instead.\n",
      "\n"
     ]
    }
   ],
   "source": [
    "## Drop the rows with NA and Drop column 'FUR 1500 (High)'\n",
    "\n",
    "df_preprocessed = df_extracted.drop('FUR 1500 (High)', axis=1)\n",
    "\n",
    "## Drop rows with missing Date\n",
    "df_preprocessed =df_preprocessed.dropna(subset ='Date' )\n",
    "\n",
    "## Fill the NA values of oter colums sing ffill method - previous value\n",
    "df_preprocessed = df_preprocessed.fillna(method='ffill')\n"
   ]
  },
  {
   "cell_type": "code",
   "execution_count": 33,
   "id": "15757767-43be-473c-9b01-58d0b229c04d",
   "metadata": {},
   "outputs": [
    {
     "data": {
      "text/plain": [
       "Date               datetime64[ns]\n",
       "LP 95                     float64\n",
       "LP 92                     float64\n",
       "LAD                       float64\n",
       "LSD                       float64\n",
       "LK                        float64\n",
       "LIK                       float64\n",
       "FUR. 800                  float64\n",
       "FUR. 1500 (Low)           float64\n",
       "dtype: object"
      ]
     },
     "execution_count": 33,
     "metadata": {},
     "output_type": "execute_result"
    }
   ],
   "source": [
    "## Check for the dtypes and NA counts of pre_processed data\n",
    "df_preprocessed.dtypes\n",
    "df_preprocessed.isna().sum()"
   ]
  },
  {
   "cell_type": "code",
   "execution_count": 37,
   "id": "2be2e82b-db5f-43dd-a476-e7edde44c2fa",
   "metadata": {},
   "outputs": [
    {
     "name": "stdout",
     "output_type": "stream",
     "text": [
      "<class 'pandas.core.frame.DataFrame'>\n",
      "Index: 159 entries, 159 to 0\n",
      "Data columns (total 9 columns):\n",
      " #   Column           Non-Null Count  Dtype         \n",
      "---  ------           --------------  -----         \n",
      " 0   Date             159 non-null    datetime64[ns]\n",
      " 1   LP 95            159 non-null    float64       \n",
      " 2   LP 92            159 non-null    float64       \n",
      " 3   LAD              159 non-null    float64       \n",
      " 4   LSD              159 non-null    float64       \n",
      " 5   LK               159 non-null    float64       \n",
      " 6   LIK              159 non-null    float64       \n",
      " 7   FUR. 800         159 non-null    float64       \n",
      " 8   FUR. 1500 (Low)  159 non-null    float64       \n",
      "dtypes: datetime64[ns](1), float64(8)\n",
      "memory usage: 12.4 KB\n"
     ]
    }
   ],
   "source": [
    "df_preprocessed.info()\n"
   ]
  },
  {
   "cell_type": "code",
   "execution_count": 36,
   "id": "c72d6cd8-30cc-44ce-a3c2-475df7ef5798",
   "metadata": {},
   "outputs": [
    {
     "data": {
      "text/html": [
       "<div>\n",
       "<style scoped>\n",
       "    .dataframe tbody tr th:only-of-type {\n",
       "        vertical-align: middle;\n",
       "    }\n",
       "\n",
       "    .dataframe tbody tr th {\n",
       "        vertical-align: top;\n",
       "    }\n",
       "\n",
       "    .dataframe thead th {\n",
       "        text-align: right;\n",
       "    }\n",
       "</style>\n",
       "<table border=\"1\" class=\"dataframe\">\n",
       "  <thead>\n",
       "    <tr style=\"text-align: right;\">\n",
       "      <th></th>\n",
       "      <th>Date</th>\n",
       "      <th>LP 95</th>\n",
       "      <th>LP 92</th>\n",
       "      <th>LAD</th>\n",
       "      <th>LSD</th>\n",
       "      <th>LK</th>\n",
       "      <th>LIK</th>\n",
       "      <th>FUR. 800</th>\n",
       "      <th>FUR. 1500 (Low)</th>\n",
       "    </tr>\n",
       "  </thead>\n",
       "  <tbody>\n",
       "    <tr>\n",
       "      <th>count</th>\n",
       "      <td>159</td>\n",
       "      <td>159.000000</td>\n",
       "      <td>159.000000</td>\n",
       "      <td>159.000000</td>\n",
       "      <td>159.000000</td>\n",
       "      <td>159.000000</td>\n",
       "      <td>159.000000</td>\n",
       "      <td>159.000000</td>\n",
       "      <td>159.000000</td>\n",
       "    </tr>\n",
       "    <tr>\n",
       "      <th>mean</th>\n",
       "      <td>2011-01-12 13:53:12.452830208</td>\n",
       "      <td>187.125786</td>\n",
       "      <td>161.965409</td>\n",
       "      <td>136.287736</td>\n",
       "      <td>161.027673</td>\n",
       "      <td>91.431950</td>\n",
       "      <td>119.129748</td>\n",
       "      <td>102.075472</td>\n",
       "      <td>102.030126</td>\n",
       "    </tr>\n",
       "    <tr>\n",
       "      <th>min</th>\n",
       "      <td>1990-03-01 00:00:00</td>\n",
       "      <td>22.000000</td>\n",
       "      <td>20.000000</td>\n",
       "      <td>9.600000</td>\n",
       "      <td>10.900000</td>\n",
       "      <td>6.580000</td>\n",
       "      <td>9.580000</td>\n",
       "      <td>4.700000</td>\n",
       "      <td>4.290000</td>\n",
       "    </tr>\n",
       "    <tr>\n",
       "      <th>25%</th>\n",
       "      <td>2002-09-30 12:00:00</td>\n",
       "      <td>54.500000</td>\n",
       "      <td>50.500000</td>\n",
       "      <td>30.000000</td>\n",
       "      <td>35.300000</td>\n",
       "      <td>22.500000</td>\n",
       "      <td>24.800000</td>\n",
       "      <td>22.450000</td>\n",
       "      <td>21.500000</td>\n",
       "    </tr>\n",
       "    <tr>\n",
       "      <th>50%</th>\n",
       "      <td>2009-12-29 00:00:00</td>\n",
       "      <td>133.000000</td>\n",
       "      <td>120.000000</td>\n",
       "      <td>80.000000</td>\n",
       "      <td>95.300000</td>\n",
       "      <td>61.000000</td>\n",
       "      <td>69.000000</td>\n",
       "      <td>53.900000</td>\n",
       "      <td>51.700000</td>\n",
       "    </tr>\n",
       "    <tr>\n",
       "      <th>75%</th>\n",
       "      <td>2022-06-09 12:00:00</td>\n",
       "      <td>371.000000</td>\n",
       "      <td>309.000000</td>\n",
       "      <td>284.500000</td>\n",
       "      <td>313.000000</td>\n",
       "      <td>103.500000</td>\n",
       "      <td>191.000000</td>\n",
       "      <td>191.000000</td>\n",
       "      <td>191.000000</td>\n",
       "    </tr>\n",
       "    <tr>\n",
       "      <th>max</th>\n",
       "      <td>2025-02-01 00:00:00</td>\n",
       "      <td>550.000000</td>\n",
       "      <td>470.000000</td>\n",
       "      <td>460.000000</td>\n",
       "      <td>520.000000</td>\n",
       "      <td>365.000000</td>\n",
       "      <td>464.000000</td>\n",
       "      <td>419.000000</td>\n",
       "      <td>419.000000</td>\n",
       "    </tr>\n",
       "    <tr>\n",
       "      <th>std</th>\n",
       "      <td>NaN</td>\n",
       "      <td>159.874248</td>\n",
       "      <td>130.529085</td>\n",
       "      <td>136.587541</td>\n",
       "      <td>161.877468</td>\n",
       "      <td>94.998857</td>\n",
       "      <td>126.101572</td>\n",
       "      <td>108.355334</td>\n",
       "      <td>108.792543</td>\n",
       "    </tr>\n",
       "  </tbody>\n",
       "</table>\n",
       "</div>"
      ],
      "text/plain": [
       "                                Date       LP 95       LP 92         LAD  \\\n",
       "count                            159  159.000000  159.000000  159.000000   \n",
       "mean   2011-01-12 13:53:12.452830208  187.125786  161.965409  136.287736   \n",
       "min              1990-03-01 00:00:00   22.000000   20.000000    9.600000   \n",
       "25%              2002-09-30 12:00:00   54.500000   50.500000   30.000000   \n",
       "50%              2009-12-29 00:00:00  133.000000  120.000000   80.000000   \n",
       "75%              2022-06-09 12:00:00  371.000000  309.000000  284.500000   \n",
       "max              2025-02-01 00:00:00  550.000000  470.000000  460.000000   \n",
       "std                              NaN  159.874248  130.529085  136.587541   \n",
       "\n",
       "              LSD          LK         LIK    FUR. 800  FUR. 1500 (Low)  \n",
       "count  159.000000  159.000000  159.000000  159.000000       159.000000  \n",
       "mean   161.027673   91.431950  119.129748  102.075472       102.030126  \n",
       "min     10.900000    6.580000    9.580000    4.700000         4.290000  \n",
       "25%     35.300000   22.500000   24.800000   22.450000        21.500000  \n",
       "50%     95.300000   61.000000   69.000000   53.900000        51.700000  \n",
       "75%    313.000000  103.500000  191.000000  191.000000       191.000000  \n",
       "max    520.000000  365.000000  464.000000  419.000000       419.000000  \n",
       "std    161.877468   94.998857  126.101572  108.355334       108.792543  "
      ]
     },
     "execution_count": 36,
     "metadata": {},
     "output_type": "execute_result"
    }
   ],
   "source": [
    "## Check summary stats\n",
    "df_preprocessed.describe()"
   ]
  },
  {
   "cell_type": "code",
   "execution_count": 39,
   "id": "69f20974-fb46-4e26-bd97-78c75e8cf648",
   "metadata": {},
   "outputs": [],
   "source": [
    "df_preprocessed.to_csv('output_file.csv', index=False)"
   ]
  }
 ],
 "metadata": {
  "kernelspec": {
   "display_name": "Python 3 (ipykernel)",
   "language": "python",
   "name": "python3"
  },
  "language_info": {
   "codemirror_mode": {
    "name": "ipython",
    "version": 3
   },
   "file_extension": ".py",
   "mimetype": "text/x-python",
   "name": "python",
   "nbconvert_exporter": "python",
   "pygments_lexer": "ipython3",
   "version": "3.13.1"
  }
 },
 "nbformat": 4,
 "nbformat_minor": 5
}